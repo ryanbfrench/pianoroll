{
  "cells": [
    {
      "cell_type": "code",
      "execution_count": null,
      "metadata": {
        "colab": {
          "base_uri": "https://localhost:8080/"
        },
        "id": "kgGxWGbDokBf",
        "outputId": "a3ff7a46-c162-4076-c790-14b8cd3526b7"
      },
      "outputs": [
        {
          "output_type": "stream",
          "name": "stdout",
          "text": [
            "Selecting previously unselected package fluid-soundfont-gm.\n",
            "(Reading database ... 155222 files and directories currently installed.)\n",
            "Preparing to unpack .../fluid-soundfont-gm_3.1-5.1_all.deb ...\n",
            "Unpacking fluid-soundfont-gm (3.1-5.1) ...\n",
            "Selecting previously unselected package libfluidsynth1:amd64.\n",
            "Preparing to unpack .../libfluidsynth1_1.1.9-1_amd64.deb ...\n",
            "Unpacking libfluidsynth1:amd64 (1.1.9-1) ...\n",
            "Setting up fluid-soundfont-gm (3.1-5.1) ...\n",
            "Setting up libfluidsynth1:amd64 (1.1.9-1) ...\n",
            "Processing triggers for libc-bin (2.27-3ubuntu1.3) ...\n",
            "/sbin/ldconfig.real: /usr/local/lib/python3.7/dist-packages/ideep4py/lib/libmkldnn.so.0 is not a symbolic link\n",
            "\n",
            "\u001b[K     |████████████████████████████████| 5.6 MB 3.6 MB/s \n",
            "\u001b[K     |████████████████████████████████| 51 kB 7.7 MB/s \n",
            "\u001b[?25h  Building wheel for pretty-midi (setup.py) ... \u001b[?25l\u001b[?25hdone\n",
            "Requirement already satisfied: music21 in /usr/local/lib/python3.7/dist-packages (5.5.0)\n",
            "Collecting pypianoroll\n",
            "  Downloading pypianoroll-1.0.4-py3-none-any.whl (26 kB)\n",
            "Requirement already satisfied: numpy>=1.12.0 in /usr/local/lib/python3.7/dist-packages (from pypianoroll) (1.19.5)\n",
            "Requirement already satisfied: scipy>=1.0.0 in /usr/local/lib/python3.7/dist-packages (from pypianoroll) (1.4.1)\n",
            "Requirement already satisfied: matplotlib>=1.5 in /usr/local/lib/python3.7/dist-packages (from pypianoroll) (3.2.2)\n",
            "Requirement already satisfied: pretty-midi>=0.2.8 in /usr/local/lib/python3.7/dist-packages (from pypianoroll) (0.2.9)\n",
            "Requirement already satisfied: python-dateutil>=2.1 in /usr/local/lib/python3.7/dist-packages (from matplotlib>=1.5->pypianoroll) (2.8.2)\n",
            "Requirement already satisfied: kiwisolver>=1.0.1 in /usr/local/lib/python3.7/dist-packages (from matplotlib>=1.5->pypianoroll) (1.3.2)\n",
            "Requirement already satisfied: cycler>=0.10 in /usr/local/lib/python3.7/dist-packages (from matplotlib>=1.5->pypianoroll) (0.11.0)\n",
            "Requirement already satisfied: pyparsing!=2.0.4,!=2.1.2,!=2.1.6,>=2.0.1 in /usr/local/lib/python3.7/dist-packages (from matplotlib>=1.5->pypianoroll) (3.0.6)\n",
            "Requirement already satisfied: six in /usr/local/lib/python3.7/dist-packages (from pretty-midi>=0.2.8->pypianoroll) (1.15.0)\n",
            "Requirement already satisfied: mido>=1.1.16 in /usr/local/lib/python3.7/dist-packages (from pretty-midi>=0.2.8->pypianoroll) (1.2.10)\n",
            "Installing collected packages: pypianoroll\n",
            "Successfully installed pypianoroll-1.0.4\n",
            "Collecting musicautobot\n",
            "  Downloading musicautobot-0.0.1-py3-none-any.whl (38 kB)\n",
            "Installing collected packages: musicautobot\n",
            "Successfully installed musicautobot-0.0.1\n",
            "Collecting midi2audio\n",
            "  Downloading midi2audio-0.1.1-py2.py3-none-any.whl (8.7 kB)\n",
            "Installing collected packages: midi2audio\n",
            "Successfully installed midi2audio-0.1.1\n"
          ]
        }
      ],
      "source": [
        "!apt-get update -qq && apt-get install -qq libfluidsynth1 fluid-soundfont-gm build-essential libasound2-dev libjack-dev\n",
        "!pip install -qU pyfluidsynth pretty_midi\n",
        "!pip install music21\n",
        "!pip install pypianoroll\n",
        "!pip install musicautobot\n",
        "!pip install midi2audio"
      ]
    },
    {
      "cell_type": "code",
      "execution_count": null,
      "metadata": {
        "id": "U_qx49FsoZep",
        "colab": {
          "base_uri": "https://localhost:8080/"
        },
        "outputId": "e94bfd00-1a83-467f-e91e-9cf0e878f565"
      },
      "outputs": [
        {
          "output_type": "stream",
          "name": "stdout",
          "text": [
            "Warning: Could not find musescore installation. Please install musescore (see README) and/or update music21 environment paths\n"
          ]
        }
      ],
      "source": [
        "import torch\n",
        "import os\n",
        "import json\n",
        "import pandas as pd\n",
        "import numpy as np\n",
        "import pypianoroll\n",
        "from datetime import datetime\n",
        "import matplotlib.pyplot as plt\n",
        "import matplotlib.ticker as ticker\n",
        "from music21 import *\n",
        "from musicautobot.numpy_encode import *\n",
        "from musicautobot.config import *\n",
        "from musicautobot.music_transformer import *\n",
        "from musicautobot.multitask_transformer import *\n",
        "from musicautobot.utils import midifile\n",
        "import random"
      ]
    },
    {
      "cell_type": "code",
      "execution_count": null,
      "metadata": {
        "colab": {
          "base_uri": "https://localhost:8080/"
        },
        "id": "RKjFwf5AuApr",
        "outputId": "f644b184-91cd-4c91-d6ce-de742568ba00"
      },
      "outputs": [
        {
          "output_type": "stream",
          "name": "stdout",
          "text": [
            "Mounted at /content/drive\n"
          ]
        }
      ],
      "source": [
        "from google.colab import drive\n",
        "drive.mount('/content/drive')"
      ]
    },
    {
      "cell_type": "code",
      "execution_count": null,
      "metadata": {
        "id": "qpK-1kzEoSeT"
      },
      "outputs": [],
      "source": [
        "# root_dir = 'drive/MyDrive/Pianorolls'\n",
        "# data_dir = root_dir + '/lpd/lpd_cleansed'\n",
        "# music_dataset_lpd_dir = root_dir + '/lpd/lpd_cleansed'\n",
        "# combined_pianorolls = torch.load(os.path.join(root_dir, 'pianorolls.pt'))\n",
        "# pianoroll_lengths = torch.load(os.path.join(root_dir, 'pianorolls_lengths.pt'))\n",
        "\n",
        "root_dir = 'drive/MyDrive/Deep Learning Project'\n",
        "combined_pianorolls = torch.load(os.path.join(root_dir, 'Pianorolls', 'pianorolls.pt'))\n",
        "pianoroll_lengths = torch.load(os.path.join(root_dir, 'Pianorolls', 'pianorolls_lengths.pt'))"
      ]
    },
    {
      "cell_type": "code",
      "execution_count": null,
      "metadata": {
        "colab": {
          "base_uri": "https://localhost:8080/"
        },
        "id": "Nfq-9GuAqIU7",
        "outputId": "792a4bc6-bd33-4c4f-ce9f-03b9a076dde5"
      },
      "outputs": [
        {
          "output_type": "stream",
          "name": "stdout",
          "text": [
            "1163\n",
            "torch.Size([617, 128])\n",
            "Number of characters in file : 128\n",
            "tensor([  0,   0,   0,   0,   0,   0,   0,   0,   0,   0,   0,   0,   0,   0,\n",
            "          0,   0,   0,   0,   0,   0,   0,   0,   0,   0,   0,   0,   0,   0,\n",
            "          0,   0,   0,   0,   0,   0,   0,   0,   0,   0,   0,   0,   0,   0,\n",
            "          0,   0,   0,   0,   0,   0,   0,   0,   0,   0,   0,   0,   0,   0,\n",
            "          0,   0,   0,   0, 100,   0, 127,   0,   0,   0,   0, 127,   0, 127,\n",
            "          0, 127,   0,   0,   0,   0,   0,   0,   0,   0,   0,   0,   0,   0,\n",
            "          0,   0,   0,   0,   0,   0,   0,   0,   0,   0,   0,   0,   0,   0,\n",
            "          0,   0,   0,   0,   0,   0,   0,   0,   0,   0,   0,   0,   0,   0,\n",
            "          0,   0,   0,   0,   0,   0,   0,   0,   0,   0,   0,   0,   0,   0,\n",
            "          0,   0], dtype=torch.uint8)\n",
            "1163 1163\n",
            "617 617\n",
            "128 1\n",
            "617 vs 2625\n",
            "128\n"
          ]
        }
      ],
      "source": [
        "# Explore data, tensors\n",
        "data = combined_pianorolls\n",
        "data = data[0][100]\n",
        "print(len(combined_pianorolls))\n",
        "print(combined_pianorolls[0].size())\n",
        "number_of_characters = len(data)\n",
        "\n",
        "line_length = 4 #length of sequence (1-25)\n",
        "\n",
        "def get_seq(i,lim):\n",
        "  start = i - line_length#random.randint(0,number_of_characters - 25)\n",
        "  if start < 0:\n",
        "    start = 0\n",
        "\n",
        "  seq = []\n",
        "\n",
        "  togo = abs(start - i)\n",
        "  for x in range(0,togo):\n",
        "    seq.append(data[start+x])\n",
        "\n",
        "  return seq\n",
        "\n",
        "print('Number of characters in file :', number_of_characters)\n",
        "\n",
        "chars = []\n",
        "bigset = set(chars)\n",
        "combined_pianorolls_list = []\n",
        "\n",
        "print(combined_pianorolls[0][0])\n",
        "\n",
        "\n",
        "comb_index = np.zeros((len(combined_pianorolls), 617,1))\n",
        "\n",
        "for iii in range(617):\n",
        "  for ii in range(128):\n",
        "    testn = combined_pianorolls[iii][ii].tolist()\n",
        "    for i in range(len(combined_pianorolls[iii][ii])):\n",
        "      if testn[len(combined_pianorolls[iii][ii]) - 1 - i] > 0:\n",
        "        comb_index[iii][ii] = i\n",
        "\n",
        "#print(comb_index[0][0])\n",
        "print(len(combined_pianorolls),len(comb_index))\n",
        "print(len(combined_pianorolls[0]),len(comb_index[0]))\n",
        "print(len(combined_pianorolls[0][0]),len(comb_index[0][0]))\n",
        "\n",
        "print(len(set(combined_pianorolls[0])), \"vs\", (len(combined_pianorolls[0])+len(combined_pianorolls[1])+len(combined_pianorolls[2])))\n",
        "\n",
        "data = combined_pianorolls[0].tolist()\n",
        "\n",
        "notelist = range(128)\n",
        "all_chars = set(notelist)#bigset#set(data)\n",
        "m = len(set(notelist))#len(set(data))\n",
        "n_letters = m\n",
        "all_letters = list(all_chars)\n",
        "\n",
        "print(m)"
      ]
    },
    {
      "cell_type": "code",
      "execution_count": null,
      "metadata": {
        "colab": {
          "base_uri": "https://localhost:8080/"
        },
        "id": "WNNw-w342sxr",
        "outputId": "6097d613-1aef-4b29-a58e-b29e215f7c61"
      },
      "outputs": [
        {
          "output_type": "stream",
          "name": "stdout",
          "text": [
            "tensor([[0., 0., 0., 0., 0., 0., 0., 0., 0., 0., 0., 0., 0., 0., 0., 0., 0., 0.,\n",
            "         0., 0., 0., 0., 0., 0., 0., 0., 0., 0., 0., 0., 0., 0., 0., 0., 0., 0.,\n",
            "         0., 0., 0., 0., 0., 0., 0., 0., 0., 0., 0., 0., 0., 0., 0., 0., 0., 0.,\n",
            "         0., 0., 0., 0., 0., 0., 0., 0., 0., 0., 0., 0., 0., 0., 0., 0., 0., 0.,\n",
            "         0., 0., 0., 0., 0., 0., 0., 0., 0., 0., 0., 0., 0., 0., 0., 0., 0., 0.,\n",
            "         0., 0., 0., 0., 0., 0., 0., 0., 0., 0., 0., 0., 0., 0., 0., 0., 0., 0.,\n",
            "         0., 0., 0., 0., 0., 0., 0., 0., 0., 0., 0., 0., 0., 0., 0., 0., 0., 0.,\n",
            "         1., 0.]])\n",
            "tensor([[[1., 0., 0., 0., 0., 0., 0., 0., 0., 0., 0., 0., 0., 0., 0., 0., 0.,\n",
            "          0., 0., 0., 0., 0., 0., 0., 0., 0., 0., 0., 0., 0., 0., 0., 0., 0.,\n",
            "          0., 0., 0., 0., 0., 0., 0., 0., 0., 0., 0., 0., 0., 0., 0., 0., 0.,\n",
            "          0., 0., 0., 0., 0., 0., 0., 0., 0., 0., 0., 0., 0., 0., 0., 0., 0.,\n",
            "          0., 0., 0., 0., 0., 0., 0., 0., 0., 0., 0., 0., 0., 0., 0., 0., 0.,\n",
            "          0., 0., 0., 0., 0., 0., 0., 0., 0., 0., 0., 0., 0., 0., 0., 0., 0.,\n",
            "          0., 0., 0., 0., 0., 0., 0., 0., 0., 0., 0., 0., 0., 0., 0., 0., 0.,\n",
            "          0., 0., 0., 0., 0., 0., 0., 0., 0.]],\n",
            "\n",
            "        [[0., 1., 0., 0., 0., 0., 0., 0., 0., 0., 0., 0., 0., 0., 0., 0., 0.,\n",
            "          0., 0., 0., 0., 0., 0., 0., 0., 0., 0., 0., 0., 0., 0., 0., 0., 0.,\n",
            "          0., 0., 0., 0., 0., 0., 0., 0., 0., 0., 0., 0., 0., 0., 0., 0., 0.,\n",
            "          0., 0., 0., 0., 0., 0., 0., 0., 0., 0., 0., 0., 0., 0., 0., 0., 0.,\n",
            "          0., 0., 0., 0., 0., 0., 0., 0., 0., 0., 0., 0., 0., 0., 0., 0., 0.,\n",
            "          0., 0., 0., 0., 0., 0., 0., 0., 0., 0., 0., 0., 0., 0., 0., 0., 0.,\n",
            "          0., 0., 0., 0., 0., 0., 0., 0., 0., 0., 0., 0., 0., 0., 0., 0., 0.,\n",
            "          0., 0., 0., 0., 0., 0., 0., 0., 0.]],\n",
            "\n",
            "        [[0., 0., 0., 0., 0., 0., 0., 0., 0., 0., 0., 0., 0., 0., 0., 0., 0.,\n",
            "          0., 0., 0., 0., 0., 0., 0., 0., 0., 0., 0., 0., 0., 0., 0., 0., 0.,\n",
            "          0., 0., 0., 0., 0., 0., 0., 0., 0., 0., 0., 0., 0., 0., 0., 0., 0.,\n",
            "          0., 0., 0., 0., 0., 0., 0., 0., 0., 0., 0., 0., 0., 0., 0., 0., 0.,\n",
            "          0., 0., 0., 0., 0., 0., 0., 0., 0., 0., 0., 0., 0., 0., 0., 0., 0.,\n",
            "          0., 0., 0., 0., 0., 0., 0., 0., 0., 0., 0., 0., 0., 0., 0., 0., 0.,\n",
            "          0., 0., 0., 0., 0., 0., 0., 0., 0., 0., 0., 0., 0., 0., 0., 0., 0.,\n",
            "          0., 1., 0., 0., 0., 0., 0., 0., 0.]],\n",
            "\n",
            "        [[1., 0., 0., 0., 0., 0., 0., 0., 0., 0., 0., 0., 0., 0., 0., 0., 0.,\n",
            "          0., 0., 0., 0., 0., 0., 0., 0., 0., 0., 0., 0., 0., 0., 0., 0., 0.,\n",
            "          0., 0., 0., 0., 0., 0., 0., 0., 0., 0., 0., 0., 0., 0., 0., 0., 0.,\n",
            "          0., 0., 0., 0., 0., 0., 0., 0., 0., 0., 0., 0., 0., 0., 0., 0., 0.,\n",
            "          0., 0., 0., 0., 0., 0., 0., 0., 0., 0., 0., 0., 0., 0., 0., 0., 0.,\n",
            "          0., 0., 0., 0., 0., 0., 0., 0., 0., 0., 0., 0., 0., 0., 0., 0., 0.,\n",
            "          0., 0., 0., 0., 0., 0., 0., 0., 0., 0., 0., 0., 0., 0., 0., 0., 0.,\n",
            "          0., 0., 0., 0., 0., 0., 0., 0., 0.]]])\n"
          ]
        }
      ],
      "source": [
        "import torch\n",
        "\n",
        "all_chars_list = list(all_chars)\n",
        "#print(n_letters)\n",
        "\n",
        "# Find letter index from all_letters, e.g. \"a\" = 0\n",
        "def letterToIndex(letter):\n",
        "    out = next((i for i, x in enumerate(all_chars_list) if x == letter), 0)\n",
        "    return out#all_chars.find(letter)\n",
        "\n",
        "def noteToIndex(letter):\n",
        "    out = next((i for i, x in enumerate(all_chars_list) if x == letter), 0)\n",
        "    return out#all_chars.find(letter)\n",
        "\n",
        "def TensorToIndex(letter):\n",
        "    out = next((i for i, x in enumerate(all_chars_list) if torch.equal(x,letter)), 0)\n",
        "    return out#all_chars.find(letter)\n",
        "\n",
        "# Just for demonstration, turn a letter into a <1 x n_letters> Tensor\n",
        "def letterToTensor(letter):\n",
        "    tensor = torch.zeros(1, n_letters)\n",
        "    tensor[0][letterToIndex(letter)] = 1\n",
        "    return tensor\n",
        "\n",
        "def TensorToTensor(letter):\n",
        "    tensor = torch.zeros(1, n_letters)\n",
        "    tensor[0][TensorToIndex(letter)] = 1\n",
        "    return tensor\n",
        "\n",
        "def noteToTensor(note):\n",
        "    tensor = tensor_set[noteToIndex(note)]\n",
        "    return tensor\n",
        "\n",
        "# Turn a line into a <line_length x 1 x n_letters>,\n",
        "# or an array of one-hot letter vectors\n",
        "def lineToTensor(line):\n",
        "    tensor = torch.zeros(len(line), 1, n_letters)\n",
        "    for li, letter in enumerate(line):\n",
        "        tensor[li][0][letterToIndex(letter)] = 1\n",
        "    return tensor\n",
        "\n",
        "def BarToTensor(line):\n",
        "    tensor = torch.zeros(len(line), 1, n_letters)\n",
        "    for li, letter in enumerate(line):\n",
        "        tensor[li]= noteToTensor(letter)\n",
        "    return tensor\n",
        "\n",
        "#print(letterToTensor('K'))\n",
        "\n",
        "#print(lineToTensor('Jones').size())\n",
        "#print(BarToTensor(combined_pianorolls[0][0:5].tolist()).size())\n",
        "print(letterToTensor(126))\n",
        "print(lineToTensor([0,1,120,0]))"
      ]
    },
    {
      "cell_type": "code",
      "execution_count": null,
      "metadata": {
        "id": "31_WZfJavX5_"
      },
      "outputs": [],
      "source": [
        "import torch.nn as nn\n",
        "\n",
        "class RNN(nn.Module):\n",
        "    def __init__(self, input_size, hidden_size, output_size):\n",
        "        super(RNN, self).__init__()\n",
        "\n",
        "        self.hidden_size = hidden_size\n",
        "\n",
        "        self.i2h = nn.Linear(input_size + hidden_size, hidden_size)\n",
        "        self.i2o = nn.Linear(input_size + hidden_size, output_size)\n",
        "        self.softmax = nn.LogSoftmax(dim=1)\n",
        "\n",
        "    def forward(self, input, hidden):\n",
        "        combined = torch.cat((input, hidden), 1)\n",
        "        hidden = self.i2h(combined)\n",
        "        output = self.i2o(combined)\n",
        "        output = self.softmax(output)\n",
        "        return output, hidden\n",
        "\n",
        "    def initHidden(self):\n",
        "        return torch.zeros(1, self.hidden_size)\n",
        "\n",
        "n_hidden = 1\n",
        "rnn = RNN(n_letters, n_hidden, n_letters)"
      ]
    },
    {
      "cell_type": "code",
      "execution_count": null,
      "metadata": {
        "colab": {
          "base_uri": "https://localhost:8080/"
        },
        "id": "My8faL1L3eAE",
        "outputId": "f8494f71-78ec-4382-b17b-c73b66b511ad"
      },
      "outputs": [
        {
          "output_type": "stream",
          "name": "stdout",
          "text": [
            "tensor([[1., 0., 0., 0., 0., 0., 0., 0., 0., 0., 0., 0., 0., 0., 0., 0., 0., 0.,\n",
            "         0., 0., 0., 0., 0., 0., 0., 0., 0., 0., 0., 0., 0., 0., 0., 0., 0., 0.,\n",
            "         0., 0., 0., 0., 0., 0., 0., 0., 0., 0., 0., 0., 0., 0., 0., 0., 0., 0.,\n",
            "         0., 0., 0., 0., 0., 0., 0., 0., 0., 0., 0., 0., 0., 0., 0., 0., 0., 0.,\n",
            "         0., 0., 0., 0., 0., 0., 0., 0., 0., 0., 0., 0., 0., 0., 0., 0., 0., 0.,\n",
            "         0., 0., 0., 0., 0., 0., 0., 0., 0., 0., 0., 0., 0., 0., 0., 0., 0., 0.,\n",
            "         0., 0., 0., 0., 0., 0., 0., 0., 0., 0., 0., 0., 0., 0., 0., 0., 0., 0.,\n",
            "         0., 0.]])\n"
          ]
        }
      ],
      "source": [
        "input = letterToTensor(0)\n",
        "#tensor = torch.zeros(1,128)\n",
        "#tensor[0] = combined_pianorolls[0][0]\n",
        "#inpp = torch.stack((emp,combined_pianorolls[0][0]),1)\n",
        "#input = tensor#torch.tensor(combined_pianorolls[0][0])#noteToTensor(all_chars_list[1])\n",
        "print(input)\n",
        "hidden = torch.zeros(1, n_hidden)\n",
        "\n",
        "output, next_hidden = rnn(input, hidden)"
      ]
    },
    {
      "cell_type": "code",
      "execution_count": null,
      "metadata": {
        "colab": {
          "base_uri": "https://localhost:8080/"
        },
        "id": "Wg8Rwj1z_4Q2",
        "outputId": "8518a79e-a258-458c-97a9-c9722ae2fbea"
      },
      "outputs": [
        {
          "output_type": "stream",
          "name": "stdout",
          "text": [
            "tensor([[-4.8590, -4.9349, -4.7634, -4.9510, -4.8875, -4.8673, -4.8896, -4.8642,\n",
            "         -4.9213, -4.7518, -4.8486, -4.9489, -4.8460, -4.7461, -4.8487, -4.7982,\n",
            "         -4.9144, -4.9948, -4.9630, -4.8077, -4.7169, -4.7779, -4.8780, -4.7139,\n",
            "         -4.9350, -4.7990, -4.8602, -4.9175, -4.8900, -4.9136, -4.8939, -4.7634,\n",
            "         -4.8307, -4.8155, -4.8844, -4.9487, -4.9425, -4.8070, -4.7109, -4.8701,\n",
            "         -4.8535, -4.8629, -4.9262, -4.7333, -4.7901, -4.8185, -4.9160, -4.8033,\n",
            "         -4.9670, -4.7669, -4.9272, -4.9426, -4.7777, -4.7705, -4.8439, -4.7523,\n",
            "         -4.8239, -4.9037, -4.8687, -4.9340, -4.7848, -4.8908, -4.8029, -4.9015,\n",
            "         -4.8375, -4.8497, -4.9667, -4.8732, -4.8981, -4.9143, -4.8957, -4.7556,\n",
            "         -4.8494, -4.8491, -4.7975, -4.7219, -4.9009, -4.8601, -4.8317, -4.8631,\n",
            "         -4.8151, -4.8595, -4.9048, -4.6881, -4.8531, -4.8468, -4.8933, -4.8591,\n",
            "         -4.8144, -4.9463, -4.9297, -4.8401, -4.8141, -4.8792, -4.8018, -4.8624,\n",
            "         -4.9382, -4.8963, -4.9854, -4.8240, -4.8335, -4.7886, -4.9177, -4.9468,\n",
            "         -4.9438, -4.7911, -4.9250, -4.7636, -4.8141, -4.7366, -4.8521, -4.8754,\n",
            "         -4.8239, -4.8235, -4.8869, -4.8429, -4.7715, -4.7956, -4.7985, -4.8999,\n",
            "         -4.9354, -4.8953, -4.8835, -4.8201, -4.7812, -4.8520, -4.9757, -4.8197]],\n",
            "       grad_fn=<LogSoftmaxBackward0>)\n"
          ]
        }
      ],
      "source": [
        "input = lineToTensor([0,0,3,20])\n",
        "hidden = torch.zeros(1, n_hidden)\n",
        "\n",
        "output, next_hidden = rnn(input[0], hidden)\n",
        "print(output)"
      ]
    },
    {
      "cell_type": "code",
      "execution_count": null,
      "metadata": {
        "colab": {
          "base_uri": "https://localhost:8080/"
        },
        "id": "8tyEILL-0h9c",
        "outputId": "42bd1e86-7af9-48f9-d7b4-93f6c704065c"
      },
      "outputs": [
        {
          "output_type": "stream",
          "name": "stdout",
          "text": [
            "(83, 83)\n"
          ]
        }
      ],
      "source": [
        "def categoryFromOutput(output):\n",
        "    top_n, top_i = output.topk(1)\n",
        "    category_i = top_i[0].item()\n",
        "    return all_chars_list[category_i], category_i\n",
        "\n",
        "print(categoryFromOutput(output))"
      ]
    },
    {
      "cell_type": "code",
      "execution_count": null,
      "metadata": {
        "colab": {
          "base_uri": "https://localhost:8080/"
        },
        "id": "QpMkcn3cXpiv",
        "outputId": "1c911572-1b7d-43d5-d9f2-7850d65e64ee"
      },
      "outputs": [
        {
          "output_type": "stream",
          "name": "stdout",
          "text": [
            "[1, 3]\n",
            "358785\n"
          ]
        }
      ],
      "source": [
        "mylist = ['a','b','c','b']\n",
        "def lookallindicesof(char, list):\n",
        "    indexlist = []\n",
        "    for item in enumerate(list):\n",
        "        if char in item:\n",
        "            indexlist.append(item[0])\n",
        "    return indexlist\n",
        "\n",
        "indexlist = lookallindicesof('b',mylist)\n",
        "print(indexlist)\n",
        "\n",
        "data = comb_index.flatten()\n",
        "data = data[0:len(data)//2]\n",
        "print(len(data))\n",
        "available_chars = set(data)\n",
        "available_chars = list(available_chars)"
      ]
    },
    {
      "cell_type": "code",
      "execution_count": null,
      "metadata": {
        "colab": {
          "base_uri": "https://localhost:8080/"
        },
        "id": "pFTLjtTH0kI7",
        "outputId": "fe74fd4f-a72e-4f97-d84a-8a151cc7b190"
      },
      "outputs": [
        {
          "output_type": "stream",
          "name": "stdout",
          "text": [
            "category = 96.0 / line = [91.0, 79.0, 79.0, 86.0]\n",
            "category = 61.0 / line = [61.0, 61.0, 61.0, 61.0]\n",
            "category = 35.0 / line = [36.0, 36.0, 36.0, 33.0]\n",
            "category = 51.0 / line = [53.0, 55.0, 55.0, 51.0]\n",
            "category = 35.0 / line = [36.0, 36.0, 36.0, 33.0]\n",
            "category = 93.0 / line = [93.0, 93.0, 93.0, 93.0]\n",
            "category = 93.0 / line = [93.0, 93.0, 93.0, 93.0]\n",
            "category = 89.0 / line = [87.0, 89.0, 89.0, 89.0]\n",
            "category = 71.0 / line = [71.0, 71.0, 71.0, 71.0]\n",
            "category = 68.0 / line = [68.0, 68.0, 68.0, 68.0]\n"
          ]
        }
      ],
      "source": [
        "import random\n",
        "\n",
        "def randomChoice(l):\n",
        "    return l[random.randint(0, len(l) - 1)]\n",
        "\n",
        "def randomTrainingExample():\n",
        "    category = randomChoice(available_chars)#all_chars_list)\n",
        "    ind_c = -1\n",
        "    chooselist = lookallindicesof(category,data)\n",
        "    for ele in chooselist:\n",
        "      if ele < line_length: #removes all indices smaller than line_length\n",
        "        chooselist.remove(ele)\n",
        "    ind_c = randomChoice(chooselist)\n",
        "    line = get_seq(ind_c,number_of_characters)\n",
        "    category_tensor = torch.tensor([all_chars_list.index(category)], dtype=torch.long)\n",
        "    line_tensor = lineToTensor(line)\n",
        "    return category, line, category_tensor, line_tensor\n",
        "\n",
        "for i in range(10):\n",
        "    category, line, category_tensor, line_tensor = randomTrainingExample()\n",
        "    print('category =', category, '/ line =', line)"
      ]
    },
    {
      "cell_type": "code",
      "execution_count": null,
      "metadata": {
        "id": "HT9NjUpq0naE"
      },
      "outputs": [],
      "source": [
        "criterion = nn.NLLLoss()"
      ]
    },
    {
      "cell_type": "code",
      "execution_count": null,
      "metadata": {
        "id": "qLUC3hAn0oKA"
      },
      "outputs": [],
      "source": [
        "learning_rate = 0.005 #0.001 # If you set this too high, it might explode. If too low, it might not learn\n",
        "#Good: datasize:10000 lr = 0.01 iteration: 500000\n",
        "\n",
        "def train(category_tensor, line_tensor):\n",
        "    hidden = rnn.initHidden()\n",
        "\n",
        "    rnn.zero_grad()\n",
        "\n",
        "    for i in range(line_tensor.size()[0]):\n",
        "        output, hidden = rnn(line_tensor[i], hidden)\n",
        "\n",
        "    loss = criterion(output, category_tensor)\n",
        "    loss.backward()\n",
        "\n",
        "    # Add parameters' gradients to their values, multiplied by learning rate\n",
        "    for p in rnn.parameters():\n",
        "        p.data.add_(p.grad.data, alpha=-learning_rate)\n",
        "\n",
        "    return output, loss.item()"
      ]
    },
    {
      "cell_type": "code",
      "execution_count": null,
      "metadata": {
        "colab": {
          "base_uri": "https://localhost:8080/"
        },
        "id": "yk8ueMws0sYe",
        "outputId": "e10ea18d-9d33-4659-bab8-9e6b5e0658c3"
      },
      "outputs": [
        {
          "output_type": "stream",
          "name": "stdout",
          "text": [
            "5000 5% (11m 27s) 4.4138 [104.0, 104.0, 104.0, 104.0] / 104 ✓\n",
            "10000 10% (22m 52s) 4.1207 [87.0, 86.0, 86.0, 86.0] / 86 ✓\n",
            "15000 15% (34m 21s) 4.2624 [45.0, 43.0, 45.0, 47.0] / 47 ✗ (45.0)\n",
            "20000 20% (45m 50s) 4.3572 [65.0, 0.0, 56.0, 56.0] / 70 ✗ (56.0)\n",
            "25000 25% (57m 4s) 2.6941 [46.0, 46.0, 46.0, 46.0] / 46 ✓\n",
            "30000 30% (68m 31s) 3.2074 [51.0, 51.0, 51.0, 51.0] / 51 ✓\n",
            "35000 35% (80m 5s) 1.9372 [99.0, 101.0, 101.0, 101.0] / 101 ✓\n",
            "40000 40% (91m 37s) 2.5267 [0.0, 0.0, 0.0, 0.0] / 0 ✓\n",
            "45000 45% (103m 7s) 2.4852 [62.0, 50.0, 50.0, 44.0] / 44 ✓\n",
            "50000 50% (114m 40s) 2.8413 [36.0, 36.0, 36.0, 33.0] / 33 ✗ (35.0)\n",
            "55000 55% (125m 56s) 4.4724 [33.0, 33.0, 33.0, 33.0] / 33 ✗ (30.0)\n",
            "60000 60% (137m 17s) 1.8200 [60.0, 60.0, 60.0, 60.0] / 60 ✓\n",
            "65000 65% (148m 36s) 1.7284 [53.0, 55.0, 55.0, 56.0] / 56 ✓\n",
            "70000 70% (159m 58s) 1.6382 [70.0, 70.0, 77.0, 77.0] / 77 ✓\n",
            "75000 75% (171m 23s) 1.4721 [47.0, 45.0, 47.0, 45.0] / 45 ✓\n",
            "80000 80% (182m 53s) 1.2497 [39.0, 39.0, 39.0, 39.0] / 39 ✓\n",
            "85000 85% (194m 19s) 2.0786 [67.0, 67.0, 67.0, 67.0] / 67 ✗ (29.0)\n",
            "90000 90% (205m 45s) 5.0685 [90.0, 83.0, 90.0, 97.0] / 97 ✗ (78.0)\n",
            "95000 95% (217m 9s) 0.9534 [71.0, 71.0, 71.0, 76.0] / 76 ✓\n",
            "100000 100% (228m 41s) 0.9067 [64.0, 64.0, 64.0, 64.0] / 64 ✓\n"
          ]
        }
      ],
      "source": [
        "import time\n",
        "import math\n",
        "\n",
        "n_iters = 100000\n",
        "print_every = 5000\n",
        "plot_every = 1000\n",
        "\n",
        "\n",
        "\n",
        "# Keep track of losses for plotting\n",
        "current_loss = 0\n",
        "all_losses = []\n",
        "\n",
        "def timeSince(since):\n",
        "    now = time.time()\n",
        "    s = now - since\n",
        "    m = math.floor(s / 60)\n",
        "    s -= m * 60\n",
        "    return '%dm %ds' % (m, s)\n",
        "\n",
        "start = time.time()\n",
        "\n",
        "for iter in range(1, n_iters + 1):\n",
        "    category, line, category_tensor, line_tensor = randomTrainingExample()\n",
        "    output, loss = train(category_tensor, line_tensor)\n",
        "    current_loss += loss\n",
        "\n",
        "    # Print iter number, loss, name and guess\n",
        "    if iter % print_every == 0:\n",
        "        guess, guess_i = categoryFromOutput(output)\n",
        "        correct = '✓' if guess == category else '✗ (%s)' % category\n",
        "        print('%d %d%% (%s) %.4f %s / %s %s' % (iter, iter / n_iters * 100, timeSince(start), loss, line, guess, correct))\n",
        "\n",
        "    # Add current loss avg to list of losses\n",
        "    if iter % plot_every == 0:\n",
        "        all_losses.append(current_loss / plot_every)\n",
        "        current_loss = 0"
      ]
    },
    {
      "cell_type": "code",
      "execution_count": null,
      "metadata": {
        "colab": {
          "base_uri": "https://localhost:8080/",
          "height": 283
        },
        "id": "3XJPmRmH0vmB",
        "outputId": "49426007-75cd-4957-c6ea-df70180e6174"
      },
      "outputs": [
        {
          "output_type": "execute_result",
          "data": {
            "text/plain": [
              "[<matplotlib.lines.Line2D at 0x7f370163af50>]"
            ]
          },
          "metadata": {},
          "execution_count": 17
        },
        {
          "output_type": "display_data",
          "data": {
            "image/png": "[encoded data removed]",
            "text/plain": [
              "<Figure size 432x288 with 1 Axes>"
            ]
          },
          "metadata": {
            "needs_background": "light"
          }
        }
      ],
      "source": [
        "plt.figure()\n",
        "plt.plot(all_losses)"
      ]
    },
    {
      "cell_type": "markdown",
      "source": [
        "Load model from previous training"
      ],
      "metadata": {
        "id": "bFv4EIeBVEjp"
      }
    },
    {
      "cell_type": "code",
      "source": [
        "torch.save(rnn.state_dict(), os.path.join(root_dir, 'malakhi_weights.pth'))\n",
        "rnn.load_state_dict(torch.load(os.path.join(root_dir, 'malakhi_weights.pth')))"
      ],
      "metadata": {
        "colab": {
          "base_uri": "https://localhost:8080/",
          "height": 183
        },
        "id": "nh-OPB-FT799",
        "outputId": "b5feefd8-7d9e-4334-b99a-98177c7fa708"
      },
      "execution_count": null,
      "outputs": [
        {
          "output_type": "error",
          "ename": "NameError",
          "evalue": "ignored",
          "traceback": [
            "\u001b[0;31m---------------------------------------------------------------------------\u001b[0m",
            "\u001b[0;31mNameError\u001b[0m                                 Traceback (most recent call last)",
            "\u001b[0;32m<ipython-input-1-e7d3e2ba78e8>\u001b[0m in \u001b[0;36m<module>\u001b[0;34m()\u001b[0m\n\u001b[0;32m----> 1\u001b[0;31m \u001b[0mtorch\u001b[0m\u001b[0;34m.\u001b[0m\u001b[0msave\u001b[0m\u001b[0;34m(\u001b[0m\u001b[0mrnn\u001b[0m\u001b[0;34m.\u001b[0m\u001b[0mstate_dict\u001b[0m\u001b[0;34m(\u001b[0m\u001b[0;34m)\u001b[0m\u001b[0;34m,\u001b[0m \u001b[0mos\u001b[0m\u001b[0;34m.\u001b[0m\u001b[0mpath\u001b[0m\u001b[0;34m.\u001b[0m\u001b[0mjoin\u001b[0m\u001b[0;34m(\u001b[0m\u001b[0mroot_dir\u001b[0m\u001b[0;34m,\u001b[0m \u001b[0;34m'malakhi_weights.pth'\u001b[0m\u001b[0;34m)\u001b[0m\u001b[0;34m)\u001b[0m\u001b[0;34m\u001b[0m\u001b[0;34m\u001b[0m\u001b[0m\n\u001b[0m\u001b[1;32m      2\u001b[0m \u001b[0mrnn\u001b[0m\u001b[0;34m.\u001b[0m\u001b[0mload_state_dict\u001b[0m\u001b[0;34m(\u001b[0m\u001b[0mtorch\u001b[0m\u001b[0;34m.\u001b[0m\u001b[0mload\u001b[0m\u001b[0;34m(\u001b[0m\u001b[0mos\u001b[0m\u001b[0;34m.\u001b[0m\u001b[0mpath\u001b[0m\u001b[0;34m.\u001b[0m\u001b[0mjoin\u001b[0m\u001b[0;34m(\u001b[0m\u001b[0mroot_dir\u001b[0m\u001b[0;34m,\u001b[0m \u001b[0;34m'malakhi_weights.pth'\u001b[0m\u001b[0;34m)\u001b[0m\u001b[0;34m)\u001b[0m\u001b[0;34m)\u001b[0m\u001b[0;34m\u001b[0m\u001b[0;34m\u001b[0m\u001b[0m\n",
            "\u001b[0;31mNameError\u001b[0m: name 'torch' is not defined"
          ]
        }
      ]
    },
    {
      "cell_type": "code",
      "execution_count": null,
      "metadata": {
        "id": "BvzXR85aIumI",
        "colab": {
          "base_uri": "https://localhost:8080/",
          "height": 648
        },
        "outputId": "1d955348-60ef-4082-d883-9a7344be27af"
      },
      "outputs": [
        {
          "output_type": "stream",
          "name": "stdout",
          "text": [
            "OG:  [39.0, 39.0, 39.0, 39.0, 39.0, 39.0, 39.0, 39.0, 41.0, 41.0, 41.0, 41.0, 41.0, 41.0, 41.0]\n",
            "FIN:  [39.0, 39.0, 39.0, 39.0, 39.0, 39.0, 39.0, 39.0, 41.0, 41.0, 41.0, 41.0, 41.0, 41.0, 41.0, 83, 83, 67, 13, 38, 64, 73, 43, 83, 67, 13, 38, 64, 73, 43, 83, 67, 13, 38, 64, 73, 43, 83, 67, 13, 38]\n",
            "OG:  [0.0, 0.0, 0.0, 0.0, 0.0, 0.0, 0.0, 0.0, 0.0, 0.0, 0.0, 0.0, 0.0, 0.0, 0.0]\n",
            "FIN:  [0.0, 0.0, 0.0, 0.0, 0.0, 0.0, 0.0, 0.0, 0.0, 0.0, 0.0, 0.0, 0.0, 0.0, 0.0, 83, 83, 67, 13, 38, 64, 73, 43, 83, 67, 13, 38, 64, 73, 43, 83, 67, 13, 38, 64, 73, 43, 83, 67, 13, 38]\n",
            "OG:  [81.0, 81.0, 89.0, 89.0, 88.0, 88.0, 88.0, 93.0, 93.0, 93.0, 93.0, 93.0, 91.0, 91.0, 96.0]\n",
            "FIN:  [81.0, 81.0, 89.0, 89.0, 88.0, 88.0, 88.0, 93.0, 93.0, 93.0, 93.0, 93.0, 91.0, 91.0, 96.0, 62, 62, 83, 67, 13, 38, 64, 73, 43, 83, 67, 13, 38, 64, 73, 43, 83, 67, 13, 38, 64, 73, 43, 83, 67, 13]\n",
            "OG:  [61.0, 61.0, 61.0, 61.0, 61.0, 61.0, 61.0, 61.0, 61.0, 61.0, 61.0, 0.0, 61.0, 92.0, 92.0]\n",
            "FIN:  [61.0, 61.0, 61.0, 61.0, 61.0, 61.0, 61.0, 61.0, 61.0, 61.0, 61.0, 0.0, 61.0, 92.0, 92.0, 12, 12, 64, 4, 73, 43, 83, 67, 13, 38, 64, 73, 43, 83, 67, 13, 38, 64, 73, 43, 83, 67, 13, 38, 64, 73]\n",
            "OG:  [105.0, 105.0, 105.0, 105.0, 105.0, 105.0, 105.0, 105.0, 105.0, 105.0, 105.0, 105.0, 105.0, 105.0, 105.0]\n",
            "FIN:  [105.0, 105.0, 105.0, 105.0, 105.0, 105.0, 105.0, 105.0, 105.0, 105.0, 105.0, 105.0, 105.0, 105.0, 105.0, 13, 13, 38, 64, 73, 43, 83, 67, 13, 38, 64, 73, 43, 83, 67, 13, 38, 64, 73, 43, 83, 67, 13, 38, 64, 73]\n",
            "OG:  [0.0, 0.0, 87.0, 87.0, 87.0, 87.0, 87.0, 74.0, 74.0, 68.0, 62.0, 62.0, 50.0, 50.0, 44.0]\n",
            "FIN:  [0.0, 0.0, 87.0, 87.0, 87.0, 87.0, 87.0, 74.0, 74.0, 68.0, 62.0, 62.0, 50.0, 50.0, 44.0, 73, 73, 43, 83, 67, 13, 38, 64, 73, 43, 83, 67, 13, 38, 64, 73, 43, 83, 67, 13, 38, 64, 73, 43, 83, 67]\n",
            "OG:  [41.0, 41.0, 41.0, 41.0, 41.0, 0.0, 0.0, 0.0, 0.0, 42.0, 49.0, 49.0, 49.0, 49.0, 49.0]\n",
            "FIN:  [41.0, 41.0, 41.0, 41.0, 41.0, 0.0, 0.0, 0.0, 0.0, 42.0, 49.0, 49.0, 49.0, 49.0, 49.0, 20, 20, 124, 124, 124, 124, 124, 124, 124, 124, 124, 124, 124, 124, 124, 124, 124, 124, 124, 124, 124, 124, 124, 124, 124, 124]\n",
            "OG:  [94.0, 70.0, 70.0, 70.0, 70.0, 94.0, 97.0, 97.0, 97.0, 70.0, 70.0, 70.0, 70.0, 97.0, 97.0]\n",
            "FIN:  [94.0, 70.0, 70.0, 70.0, 70.0, 94.0, 97.0, 97.0, 97.0, 70.0, 70.0, 70.0, 70.0, 97.0, 97.0, 64, 64, 73, 43, 83, 67, 13, 38, 64, 73, 43, 83, 67, 13, 38, 64, 73, 43, 83, 67, 13, 38, 64, 73, 43, 83]\n",
            "OG:  [0.0, 0.0, 0.0, 77.0, 0.0, 0.0, 0.0, 77.0, 0.0, 0.0, 0.0, 78.0, 78.0, 66.0, 66.0]\n",
            "FIN:  [0.0, 0.0, 0.0, 77.0, 0.0, 0.0, 0.0, 77.0, 0.0, 0.0, 0.0, 78.0, 78.0, 66.0, 66.0, 94, 94, 83, 67, 13, 38, 64, 73, 43, 83, 67, 13, 38, 64, 73, 43, 83, 67, 13, 38, 64, 73, 43, 83, 67, 13]\n",
            "OG:  [0.0, 0.0, 67.0, 67.0, 67.0, 0.0, 91.0, 91.0, 91.0, 91.0, 93.0, 93.0, 93.0, 93.0, 74.0]\n",
            "FIN:  [0.0, 0.0, 67.0, 67.0, 67.0, 0.0, 91.0, 91.0, 91.0, 91.0, 93.0, 93.0, 93.0, 93.0, 74.0, 94, 94, 83, 67, 13, 38, 64, 73, 43, 83, 67, 13, 38, 64, 73, 43, 83, 67, 13, 38, 64, 73, 43, 83, 67, 13]\n"
          ]
        },
        {
          "output_type": "display_data",
          "data": {
            "image/png": "[encoded data removed]",
            "text/plain": [
              "<Figure size 432x288 with 2 Axes>"
            ]
          },
          "metadata": {
            "image/png": {
              "width": 308,
              "height": 263
            },
            "needs_background": "light"
          }
        }
      ],
      "source": [
        "# Keep track of correct guesses in a confusion matrix\n",
        "confusion = torch.zeros(n_letters, n_letters)\n",
        "n_confusion = 10\n",
        "\n",
        "line_length = 15\n",
        "OUTPUT_LENGTH = 25\n",
        "\n",
        "# Just return an output given a line\n",
        "def evaluate(line_tensor):\n",
        "    hidden = rnn.initHidden()\n",
        "\n",
        "    for i in range(line_tensor.size()[0]):\n",
        "        output, hidden = rnn(line_tensor[i], hidden)\n",
        "\n",
        "    return output\n",
        "\n",
        "# Go through a bunch of examples and record which are correctly guessed\n",
        "# OUTPUT LOOP!:\n",
        "for i in range(n_confusion):\n",
        "    category, line, category_tensor, line_tensor = randomTrainingExample()\n",
        "    bigline = line ## MM\n",
        "    if (i < 1000): #limits the output to range of steps\n",
        "      print(\"OG: \", line)\n",
        "    for ii in range(OUTPUT_LENGTH): #MM - this for loop makes it X TO MANY instead of X to ONE. Erase for for loop and anything with MM to make X to ONE\n",
        "      line_tensor = lineToTensor(line)\n",
        "      output = evaluate(line_tensor)\n",
        "      guess, guess_i = categoryFromOutput(output) # GUESS IS ACTUAL NOTE RNN PREDICTS\n",
        "      category_i = all_chars_list.index(category)\n",
        "      confusion[category_i][guess_i] += 1\n",
        "      line.append(int(guess))#guess # MM\n",
        "      #print(line)\n",
        "      bigline.append(int(guess))#+= guess ## MM\n",
        "      line = line[1:] # MM - shorten line to proper size ###### ars2\n",
        "    if (i < 1000):  #limits the output to range of steps\n",
        "      print(\"FIN: \", bigline) # MM\n",
        "\n",
        "\n",
        "# Normalize by dividing every row by its sum\n",
        "for i in range(n_letters):\n",
        "    confusion[i] = confusion[i] / confusion[i].sum()\n",
        "\n",
        "# Set up plot\n",
        "fig = plt.figure()\n",
        "ax = fig.add_subplot(111)\n",
        "cax = ax.matshow(confusion.numpy())\n",
        "fig.colorbar(cax)\n",
        "\n",
        "# Set up axes\n",
        "ax.set_xticklabels([''] + all_chars_list, rotation=90)\n",
        "ax.set_yticklabels([''] + all_chars_list)\n",
        "\n",
        "# Force label at every tick\n",
        "ax.xaxis.set_major_locator(ticker.MultipleLocator(1))\n",
        "ax.yaxis.set_major_locator(ticker.MultipleLocator(1))\n",
        "\n",
        "# sphinx_gallery_thumbnail_number = 2\n",
        "plt.show()"
      ]
    },
    {
      "cell_type": "code",
      "source": [
        "line_length = 10\n",
        "OUTPUT_LENGTH = 30\n",
        "\n",
        "for i in range(n_confusion):\n",
        "    category, line, category_tensor, line_tensor = randomTrainingExample()\n",
        "    bigline = line ## MM\n",
        "    if (i < 1000): #limits the output to range of steps\n",
        "      print(\"OG: \", line)\n",
        "    for ii in range(OUTPUT_LENGTH): #MM - this for loop makes it X TO MANY instead of X to ONE. Erase for for loop and anything with MM to make X to ONE\n",
        "      line_tensor = lineToTensor(line)\n",
        "      output = evaluate(line_tensor)\n",
        "      guess, guess_i = categoryFromOutput(output) # GUESS IS ACTUAL NOTE RNN PREDICTS\n",
        "      category_i = all_chars_list.index(category)\n",
        "      confusion[category_i][guess_i] += 1\n",
        "      line.append(int(guess))#guess # MM\n",
        "      #print(line)\n",
        "      bigline.append(int(guess))#+= guess ## MM\n",
        "      line = line[1:] # MM - shorten line to proper size ###### ars2\n",
        "    if (i < 1000):  #limits the output to range of steps\n",
        "      print(\"FIN: \", bigline) # MM"
      ],
      "metadata": {
        "colab": {
          "base_uri": "https://localhost:8080/"
        },
        "id": "Ka-8bToAennZ",
        "outputId": "887a0021-336a-4eaa-fb06-8eb701fad4f6"
      },
      "execution_count": null,
      "outputs": [
        {
          "output_type": "stream",
          "name": "stdout",
          "text": [
            "OG:  [38.0, 31.0, 31.0, 36.0, 36.0, 36.0, 36.0, 36.0, 36.0, 33.0]\n",
            "FIN:  [38.0, 31.0, 31.0, 36.0, 36.0, 36.0, 36.0, 36.0, 36.0, 33.0, 73, 73, 43, 83, 67, 13, 38, 64, 73, 43, 83, 67, 13, 38, 64, 73, 43, 83, 67, 13, 38, 64, 73, 43, 83, 67, 13, 38, 64, 73, 43]\n",
            "OG:  [73.0, 73.0, 73.0, 73.0, 69.0, 69.0, 69.0, 73.0, 73.0, 73.0]\n",
            "FIN:  [73.0, 73.0, 73.0, 73.0, 69.0, 69.0, 69.0, 73.0, 73.0, 73.0, 43, 43, 62, 83, 67, 13, 38, 64, 73, 43, 83, 67, 13, 38, 64, 73, 43, 83, 67, 13, 38, 64, 73, 43, 83, 67, 13, 38, 64, 73, 43]\n",
            "OG:  [81.0, 67.0, 67.0, 0.0, 0.0, 81.0, 81.0, 0.0, 0.0, 69.0]\n",
            "FIN:  [81.0, 67.0, 67.0, 0.0, 0.0, 81.0, 81.0, 0.0, 0.0, 69.0, 94, 94, 83, 67, 13, 38, 64, 73, 43, 83, 67, 13, 38, 64, 73, 43, 83, 67, 13, 38, 64, 73, 43, 83, 67, 13, 38, 64, 73, 43, 83]\n",
            "OG:  [79.0, 86.0, 86.0, 86.0, 86.0, 86.0, 88.0, 88.0, 88.0, 88.0]\n",
            "FIN:  [79.0, 86.0, 86.0, 86.0, 86.0, 86.0, 88.0, 88.0, 88.0, 88.0, 83, 83, 67, 13, 38, 64, 73, 43, 83, 67, 13, 38, 64, 73, 43, 83, 67, 13, 38, 64, 73, 43, 83, 67, 13, 38, 64, 73, 43, 83, 67]\n",
            "OG:  [52.0, 49.0, 50.0, 53.0, 54.0, 51.0, 52.0, 55.0, 56.0, 53.0]\n",
            "FIN:  [52.0, 49.0, 50.0, 53.0, 54.0, 51.0, 52.0, 55.0, 56.0, 53.0, 107, 107, 83, 67, 13, 38, 64, 73, 43, 83, 67, 13, 38, 64, 73, 43, 83, 67, 13, 38, 64, 73, 43, 83, 67, 13, 38, 64, 73, 43, 83]\n",
            "OG:  [72.0, 99.0, 99.0, 99.0, 73.0, 99.0, 99.0, 99.0, 72.0, 103.0]\n",
            "FIN:  [72.0, 99.0, 99.0, 99.0, 73.0, 99.0, 99.0, 99.0, 72.0, 103.0, 40, 40, 94, 83, 67, 13, 38, 64, 73, 43, 83, 67, 13, 38, 64, 73, 43, 83, 67, 13, 38, 64, 73, 43, 83, 67, 13, 38, 64, 73, 43]\n",
            "OG:  [53.0, 53.0, 53.0, 53.0, 53.0, 53.0, 0.0, 49.0, 49.0, 49.0]\n",
            "FIN:  [53.0, 53.0, 53.0, 53.0, 53.0, 53.0, 0.0, 49.0, 49.0, 49.0, 20, 20, 124, 124, 124, 124, 124, 124, 124, 124, 124, 124, 124, 124, 124, 124, 124, 124, 124, 124, 124, 124, 124, 124, 124, 124, 124, 124, 124, 124, 124]\n",
            "OG:  [96.0, 96.0, 91.0, 89.0, 89.0, 89.0, 91.0, 91.0, 91.0, 91.0]\n",
            "FIN:  [96.0, 96.0, 91.0, 89.0, 89.0, 89.0, 91.0, 91.0, 91.0, 91.0, 62, 62, 83, 67, 13, 38, 64, 73, 43, 83, 67, 13, 38, 64, 73, 43, 83, 67, 13, 38, 64, 73, 43, 83, 67, 13, 38, 64, 73, 43, 83]\n",
            "OG:  [100.0, 100.0, 100.0, 100.0, 100.0, 100.0, 100.0, 100.0, 104.0, 104.0]\n",
            "FIN:  [100.0, 100.0, 100.0, 100.0, 100.0, 100.0, 100.0, 100.0, 104.0, 104.0, 40, 40, 94, 83, 67, 13, 38, 64, 73, 43, 83, 67, 13, 38, 64, 73, 43, 83, 67, 13, 38, 64, 73, 43, 83, 67, 13, 38, 64, 73, 43]\n",
            "OG:  [0.0, 0.0, 0.0, 32.0, 36.0, 36.0, 32.0, 31.0, 32.0, 34.0]\n",
            "FIN:  [0.0, 0.0, 0.0, 32.0, 36.0, 36.0, 32.0, 31.0, 32.0, 34.0, 64, 64, 73, 43, 83, 67, 13, 38, 64, 73, 43, 83, 67, 13, 38, 64, 73, 43, 83, 67, 13, 38, 64, 73, 43, 83, 67, 13, 38, 64, 73]\n"
          ]
        }
      ]
    },
    {
      "cell_type": "markdown",
      "metadata": {
        "id": "pqpK3B1iiyqx"
      },
      "source": [
        "#Converting output data to MIDI/Audio"
      ]
    },
    {
      "cell_type": "code",
      "execution_count": null,
      "metadata": {
        "id": "flfhifWPi3Fj"
      },
      "outputs": [],
      "source": [
        "def create_midi(prediction_output):\n",
        "    \"\"\" convert the output from the prediction to notes and create a midi file\n",
        "        from the notes \"\"\"\n",
        "    offset = 0\n",
        "    output_notes = []\n",
        "\n",
        "    # create note and chord objects based on the values generated by the model\n",
        "    for pattern in prediction_output:\n",
        "        new_note = note.Note(pattern)\n",
        "        new_note.offset = offset\n",
        "        new_note.storedInstrument = instrument.Piano()\n",
        "        output_notes.append(new_note)\n",
        "\n",
        "        # increase offset each iteration so that notes do not stack\n",
        "        offset += 0.3\n",
        "\n",
        "    midi_stream = stream.Stream(output_notes)\n",
        "\n",
        "    return midi_stream"
      ]
    },
    {
      "cell_type": "code",
      "execution_count": null,
      "metadata": {
        "id": "qMW5GHuUkJVm",
        "colab": {
          "base_uri": "https://localhost:8080/",
          "height": 35
        },
        "outputId": "fb13dbae-4488-4005-864e-01ac6443e757"
      },
      "outputs": [
        {
          "output_type": "execute_result",
          "data": {
            "application/vnd.google.colaboratory.intrinsic+json": {
              "type": "string"
            },
            "text/plain": [
              "'drive/MyDrive/Deep Learning Project/Generated MIDIs/four.mid'"
            ]
          },
          "metadata": {},
          "execution_count": 13
        }
      ],
      "source": [
        "generated_path = os.path.join(root_dir, 'Generated MIDIs', 'midiname.mid')\n",
        "generated_stream = create_midi(bigline)\n",
        "generated_stream.write('midi', fp=generated_path)"
      ]
    },
    {
      "cell_type": "code",
      "execution_count": null,
      "metadata": {
        "id": "v8bLkhNokxNL"
      },
      "outputs": [],
      "source": [
        "# Load the generated MIDI\n",
        "generated_multitrack = pypianoroll.read(generated_path)\n",
        "generated_pm = pypianoroll.to_pretty_midi(generated_multitrack)\n",
        "generated_midi_audio = generated_pm.fluidsynth()\n",
        "IPython.display.Audio(generated_midi_audio, rate = 44100)"
      ]
    }
  ],
  "metadata": {
    "colab": {
      "collapsed_sections": [],
      "name": "546PROJNN_XToX.ipynb",
      "provenance": [],
      "machine_shape": "hm"
    },
    "kernelspec": {
      "display_name": "Python 3",
      "name": "python3"
    },
    "language_info": {
      "name": "python"
    },
    "accelerator": "GPU"
  },
  "nbformat": 4,
  "nbformat_minor": 0
}